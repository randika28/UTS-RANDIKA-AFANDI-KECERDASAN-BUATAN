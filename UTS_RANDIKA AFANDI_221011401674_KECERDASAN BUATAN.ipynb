{
 "cells": [
  {
   "cell_type": "code",
   "execution_count": null,
   "id": "01319ffc-1dc7-427f-90fe-7aa7f6addf28",
   "metadata": {},
   "outputs": [],
   "source": [
    "# Data\n",
    "\n",
    "company_detail_list = [\n",
    "      {\n",
    "          'name': 'Company 1',\n",
    "          'domain': 'Retail',\n",
    "          'country': 'United States'\n",
    "      },\n",
    "      {\n",
    "          'name': 'Company 2',\n",
    "          'domain': 'Technology',\n",
    "          'country': 'United Kingdom'\n",
    "      },\n",
    "      {\n",
    "          'name': 'Company 3',\n",
    "          'domain': 'Healthcare',\n",
    "          'country': 'United States'\n",
    "      }\n",
    "  ]\n",
    "\n",
    "employee_detail_list = [\n",
    "     {\n",
    "          'name': 'EMP-0001',\n",
    "          'first_name': 'John',\n",
    "          'last_name': 'Doe',\n",
    "          'full_name': 'John Doe',\n",
    "          'company': 'Company 1',\n",
    "          'nationality': 'Australia'\n",
    "      },\n",
    "      {\n",
    "          'name': 'EMP-0002',\n",
    "          'first_name': 'Tom',\n",
    "          'last_name': 'Smith',\n",
    "          'full_name': 'Tom Smith',\n",
    "          'company': 'Company 2',\n",
    "          'nationality': 'United States'\n",
    "      },\n",
    "      {\n",
    "          'name': 'EMP-0003',\n",
    "          'first_name': 'Andrew',\n",
    "          'last_name': 'Sebastian',\n",
    "          'full_name': 'Andrew Sebastian',\n",
    "          'company': 'Company 3',\n",
    "          'nationality': 'United States'\n",
    "      },\n",
    "      {\n",
    "          'name': 'EMP-0005',\n",
    "          'first_name': 'Ying Han',\n",
    "          'last_name': 'Tan',\n",
    "          'full_name': 'Ying Han Tan',\n",
    "          'company': 'Company 1',\n",
    "          'nationality': 'Australia'\n",
    "      },\n",
    "      {\n",
    "          'name': 'EMP-0015',\n",
    "          'first_name': 'Kenneth',\n",
    "          'last_name': 'Ng',\n",
    "          'full_name': 'Kenneth Ng',\n",
    "          'company': 'Company 3',\n",
    "          'nationality': 'United States'\n",
    "      },\n",
    "      {\n",
    "          'name': 'EMP-0018',\n",
    "          'first_name': 'Rubby',\n",
    "          'last_name': 'Lee',\n",
    "          'full_name': 'Rubby Lee',\n",
    "          'company': 'Company 2',\n",
    "          'nationality': 'Hong Kong'\n",
    "      },\n",
    "     {\n",
    "          'name': 'EMP-0017',\n",
    "          'first_name': 'Robert',\n",
    "          'last_name': 'White',\n",
    "          'full_name': 'Robert White',\n",
    "          'company': 'Company 1',\n",
    "          'nationality': 'United Kingdom'\n",
    "      }\n",
    "  ]"
   ]
  },
  {
   "cell_type": "code",
   "execution_count": 6,
   "id": "66df79f6-e7f4-4c32-904a-384083fa094c",
   "metadata": {},
   "outputs": [],
   "source": [
    "#Task 1\n",
    "def dapatkan_perusahaan_terurut(daftar_perusahaan):\n",
    "    return sorted([{'name': perusahaan['name']} for perusahaan in daftar_perusahaan], key=lambda x: x['name'], reverse=True)\n",
    "\n",
    "daftar_detail_perusahaan = [\n",
    "    {'name': 'Company 1', 'domain': 'Retail', 'country': 'United States'},\n",
    "    {'name': 'Company 2', 'domain': 'Technology', 'country': 'United Kingdom'},\n",
    "    {'name': 'Company 3', 'domain': 'Healthcare', 'country': 'United States'}\n",
    "]"
   ]
  },
  {
   "cell_type": "code",
   "execution_count": 7,
   "id": "944a5959-7244-4252-a461-1c3cf1513c1d",
   "metadata": {},
   "outputs": [
    {
     "name": "stdout",
     "output_type": "stream",
     "text": [
      "Jawab Task 1:\n",
      "[{'name': 'Company 3'}, {'name': 'Company 2'}, {'name': 'Company 1'}]\n"
     ]
    }
   ],
   "source": [
    "print(\"Jawab Task 1:\")\n",
    "print(dapatkan_perusahaan_terurut(daftar_detail_perusahaan))"
   ]
  },
  {
   "cell_type": "code",
   "execution_count": 9,
   "id": "c0c54099-1dd9-44e8-92a9-8253d3788670",
   "metadata": {},
   "outputs": [],
   "source": [
    "#Task 2\n",
    "def cetak_domain_perusahaan(daftar_perusahaan):\n",
    "    for perusahaan in daftar_perusahaan:\n",
    "        print(f\"{perusahaan['name']}: {perusahaan['domain']} ({perusahaan['country']})\")"
   ]
  },
  {
   "cell_type": "code",
   "execution_count": 10,
   "id": "ef572685-2e5b-427c-8399-862f353dc20c",
   "metadata": {},
   "outputs": [
    {
     "name": "stdout",
     "output_type": "stream",
     "text": [
      "Jawab Task 2:\n",
      "Company 1: Retail (United States)\n",
      "Company 2: Technology (United Kingdom)\n",
      "Company 3: Healthcare (United States)\n"
     ]
    }
   ],
   "source": [
    "print(\"Jawab Task 2:\")\n",
    "cetak_domain_perusahaan(daftar_detail_perusahaan)"
   ]
  },
  {
   "cell_type": "code",
   "execution_count": 12,
   "id": "891da7fd-4599-4894-a473-5bbcc04d3c99",
   "metadata": {},
   "outputs": [],
   "source": [
    "#Task 3\n",
    "def dapatkan_karyawan_berdasarkan_domain(daftar_perusahaan, daftar_karyawan):\n",
    "    karyawan_domain = {perusahaan['domain']: [] for perusahaan in daftar_perusahaan}\n",
    "    peta_domain_perusahaan = {perusahaan['name']: perusahaan['domain'] for perusahaan in daftar_perusahaan}\n",
    "\n",
    "    for karyawan in daftar_karyawan:\n",
    "        domain = peta_domain_perusahaan.get(karyawan['company'])\n",
    "        if domain:\n",
    "            karyawan_domain[domain].append(karyawan['full_name'])\n",
    "    \n",
    "    return karyawan_domain\n",
    "\n",
    "daftar_detail_karyawan = [\n",
    "    {'name': 'EMP-0001', 'first_name': 'John', 'last_name': 'Doe', 'full_name': 'John Doe', 'company': 'Company 1', 'nationality': 'Australia'},\n",
    "    {'name': 'EMP-0002', 'first_name': 'Tom', 'last_name': 'Smith', 'full_name': 'Tom Smith', 'company': 'Company 2', 'nationality': 'United States'},\n",
    "    {'name': 'EMP-0003', 'first_name': 'Andrew', 'last_name': 'Sebastian', 'full_name': 'Andrew Sebastian', 'company': 'Company 3', 'nationality': 'United States'},\n",
    "    {'name': 'EMP-0005', 'first_name': 'Ying Han', 'last_name': 'Tan', 'full_name': 'Ying Han Tan', 'company': 'Company 1', 'nationality': 'Australia'},\n",
    "    {'name': 'EMP-0015', 'first_name': 'Kenneth', 'last_name': 'Ng', 'full_name': 'Kenneth Ng', 'company': 'Company 3', 'nationality': 'United States'},\n",
    "    {'name': 'EMP-0018', 'first_name': 'Rubby', 'last_name': 'Lee', 'full_name': 'Rubby Lee', 'company': 'Company 2', 'nationality': 'Hong Kong'},\n",
    "    {'name': 'EMP-0017', 'first_name': 'Robert', 'last_name': 'White', 'full_name': 'Robert White', 'company': 'Company 1', 'nationality': 'United Kingdom'}\n",
    "]"
   ]
  },
  {
   "cell_type": "code",
   "execution_count": 13,
   "id": "f8723ee0-3a0a-4be1-9a44-1d29dd52fbd9",
   "metadata": {},
   "outputs": [
    {
     "name": "stdout",
     "output_type": "stream",
     "text": [
      "Jawab Task 3:\n",
      "{'Retail': ['John Doe', 'Ying Han Tan', 'Robert White'], 'Technology': ['Tom Smith', 'Rubby Lee'], 'Healthcare': ['Andrew Sebastian', 'Kenneth Ng']}\n"
     ]
    }
   ],
   "source": [
    "print(\"Jawab Task 3:\")\n",
    "print(dapatkan_karyawan_berdasarkan_domain(daftar_detail_perusahaan, daftar_detail_karyawan))"
   ]
  },
  {
   "cell_type": "code",
   "execution_count": 14,
   "id": "d1ee4fc8-5129-42bf-81e4-a41d70fc61c1",
   "metadata": {},
   "outputs": [],
   "source": [
    "#Task 4\n",
    "def dapatkan_karyawan_dengan_negara_perusahaan(daftar_perusahaan, daftar_karyawan):\n",
    "    peta_negara_perusahaan = {perusahaan['name']: perusahaan['country'] for perusahaan in daftar_perusahaan}\n",
    "    hasil = []\n",
    "\n",
    "    for karyawan in daftar_karyawan:\n",
    "        negara = peta_negara_perusahaan.get(karyawan['company'])\n",
    "        if negara:\n",
    "            hasil.append({\n",
    "                'full_name': karyawan['full_name'],\n",
    "                'company': karyawan['company'],\n",
    "                'country': negara\n",
    "            })\n",
    "\n",
    "    return hasil"
   ]
  },
  {
   "cell_type": "code",
   "execution_count": 15,
   "id": "d3270828-bdcd-4e3f-ad3a-c47e921031e9",
   "metadata": {},
   "outputs": [
    {
     "name": "stdout",
     "output_type": "stream",
     "text": [
      "Jawab Task 4:\n",
      "[{'full_name': 'John Doe', 'company': 'Company 1', 'country': 'United States'}, {'full_name': 'Tom Smith', 'company': 'Company 2', 'country': 'United Kingdom'}, {'full_name': 'Andrew Sebastian', 'company': 'Company 3', 'country': 'United States'}, {'full_name': 'Ying Han Tan', 'company': 'Company 1', 'country': 'United States'}, {'full_name': 'Kenneth Ng', 'company': 'Company 3', 'country': 'United States'}, {'full_name': 'Rubby Lee', 'company': 'Company 2', 'country': 'United Kingdom'}, {'full_name': 'Robert White', 'company': 'Company 1', 'country': 'United States'}]\n"
     ]
    }
   ],
   "source": [
    "print(\"Jawab Task 4:\")\n",
    "print(dapatkan_karyawan_dengan_negara_perusahaan(daftar_detail_perusahaan, daftar_detail_karyawan))"
   ]
  },
  {
   "cell_type": "code",
   "execution_count": 16,
   "id": "ce65ec52-4352-4f40-9b0f-344fa3289cd8",
   "metadata": {},
   "outputs": [],
   "source": [
    "#Task 5\n",
    "from collections import defaultdict\n",
    "\n",
    "def dapatkan_jumlah_kewarganegaraan_perusahaan(daftar_karyawan):\n",
    "    jumlah_kewarganegaraan_perusahaan = defaultdict(lambda: defaultdict(int))\n",
    "    \n",
    "    for karyawan in daftar_karyawan:\n",
    "        jumlah_kewarganegaraan_perusahaan[karyawan['company']][karyawan['nationality']] += 1\n",
    "\n",
    "    hasil = []\n",
    "    for perusahaan, kewarganegaraan in jumlah_kewarganegaraan_perusahaan.items():\n",
    "        hasil.append({\n",
    "            'company': perusahaan,\n",
    "            'employee_nationality': dict(kewarganegaraan)\n",
    "        })\n",
    "    \n",
    "    return hasil"
   ]
  },
  {
   "cell_type": "code",
   "execution_count": 17,
   "id": "8b1848a2-c353-4cc0-b855-ea0958acf457",
   "metadata": {},
   "outputs": [
    {
     "name": "stdout",
     "output_type": "stream",
     "text": [
      "Jawab Task 5:\n",
      "[{'company': 'Company 1', 'employee_nationality': {'Australia': 2, 'United Kingdom': 1}}, {'company': 'Company 2', 'employee_nationality': {'United States': 1, 'Hong Kong': 1}}, {'company': 'Company 3', 'employee_nationality': {'United States': 2}}]\n"
     ]
    }
   ],
   "source": [
    "print(\"Jawab Task 5:\")\n",
    "print(dapatkan_jumlah_kewarganegaraan_perusahaan(daftar_detail_karyawan))"
   ]
  },
  {
   "cell_type": "code",
   "execution_count": null,
   "id": "433c538d-a447-4a88-a28a-303bb7cadea7",
   "metadata": {},
   "outputs": [],
   "source": []
  }
 ],
 "metadata": {
  "kernelspec": {
   "display_name": "Python 3 (ipykernel)",
   "language": "python",
   "name": "python3"
  },
  "language_info": {
   "codemirror_mode": {
    "name": "ipython",
    "version": 3
   },
   "file_extension": ".py",
   "mimetype": "text/x-python",
   "name": "python",
   "nbconvert_exporter": "python",
   "pygments_lexer": "ipython3",
   "version": "3.12.6"
  }
 },
 "nbformat": 4,
 "nbformat_minor": 5
}
